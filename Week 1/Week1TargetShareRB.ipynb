{
  "nbformat": 4,
  "nbformat_minor": 0,
  "metadata": {
    "colab": {
      "name": "Week1TargetShareRB.ipynb",
      "provenance": [],
      "authorship_tag": "ABX9TyPcQrtxpLCVRGeQ1uXU7aJM",
      "include_colab_link": true
    },
    "kernelspec": {
      "name": "python3",
      "display_name": "Python 3"
    }
  },
  "cells": [
    {
      "cell_type": "markdown",
      "metadata": {
        "id": "view-in-github",
        "colab_type": "text"
      },
      "source": [
        "<a href=\"https://colab.research.google.com/github/jbirondo/2020-FF-Data/blob/master/Week1TargetShareRB.ipynb\" target=\"_parent\"><img src=\"https://colab.research.google.com/assets/colab-badge.svg\" alt=\"Open In Colab\"/></a>"
      ]
    },
    {
      "cell_type": "code",
      "metadata": {
        "id": "DBd-YwLxJ7iI",
        "colab_type": "code",
        "colab": {
          "base_uri": "https://localhost:8080/",
          "height": 1000
        },
        "outputId": "7b609063-1356-43c9-d01a-b904449649aa"
      },
      "source": [
        "import requests\n",
        "import pandas as pd\n",
        "from bs4 import BeautifulSoup as BS\n",
        "\n",
        "def yearly_stats(season=2020):\n",
        "\n",
        "    BASE_URL = f\"https://www.pro-football-reference.com/years/{season}/fantasy.htm\"\n",
        "\n",
        "    res = requests.get(BASE_URL)\n",
        "\n",
        "    soup = BS(res.content, 'html.parser')\n",
        "\n",
        "    table = soup.find('table', {'id': 'fantasy'})\n",
        "\n",
        "    df = pd.read_html(str(table))[0]\n",
        "\n",
        "    df.columns = df.columns.droplevel(level=0)\n",
        "\n",
        "    df['PassingTD'] = df['TD'].iloc[:, 0]\n",
        "    df['PassingYds'] = df['Yds'].iloc[:, 0]\n",
        "    df['RushingTD'] = df['Yds'].iloc[:, 1]\n",
        "    df['RushingYds'] = df['Yds'].iloc[:, 1]\n",
        "    df['ReceivingTD'] = df['TD'].iloc[:, 2]\n",
        "    df['ReceivingYds'] = df['Yds'].iloc[:, 2]\n",
        "\n",
        "    df['PassingAtt'] = df['Att'].iloc[:, 0]\n",
        "    df['RushingAtt'] = df['Att'].iloc[:, 1]\n",
        "\n",
        "    df = df.rename({\n",
        "        'FantPos': 'Pos'\n",
        "    }, axis=1)\n",
        "\n",
        "    df = df[['Player', 'Tm', 'Pos', 'Age', 'PassingAtt', 'Cmp', 'PassingYds', 'PassingTD', 'RushingAtt', 'RushingYds', 'RushingTD', 'Tgt', 'Rec', 'ReceivingYds', 'ReceivingTD', 'FL', '2PM']]\n",
        "\n",
        "    df = df.fillna(0)\n",
        "\n",
        "    df = df.loc[df['Player'] != 'Player'] \n",
        "\n",
        "    for column in df.columns[4:]:\n",
        "        df[column] = df[column].astype(int)\n",
        "\n",
        "    return df\n",
        "\n",
        "def get_top_target_share(df, pos='WR', min_receptions=0, n=100):\n",
        "\n",
        "    df = df.merge(df.groupby('Tm')['Tgt'].sum(), how='left', on='Tm', suffixes=('_ind', '_team'))\n",
        "\n",
        "    df['Tgt_share'] = df['Tgt_ind'] / df['Tgt_team']\n",
        "\n",
        "    df = df.loc[(df['Pos'] == pos) & (df['Rec'] >= min_receptions)]\n",
        "\n",
        "    df = df.sort_values(by='Tgt_share', ascending=False)\n",
        "\n",
        "    df['Tgt_share_rank'] = df['Tgt_share'].rank(ascending=False, method='min')\n",
        "\n",
        "    with pd.option_context('display.max_rows', None):\n",
        "      df = df[['Player', 'Tm', 'Tgt_ind', 'Rec', 'Tgt_share', 'Tgt_share_rank']]\n",
        "      display(df.head(n))\n",
        "\n",
        "df = yearly_stats(2020)\n",
        "\n",
        "get_top_target_share(df, pos='RB', min_receptions=3, n=100)"
      ],
      "execution_count": 1,
      "outputs": [
        {
          "output_type": "error",
          "ename": "ModuleNotFoundError",
          "evalue": "No module named 'requests'",
          "traceback": [
            "\u001b[0;31m---------------------------------------------------------------------------\u001b[0m",
            "\u001b[0;31mModuleNotFoundError\u001b[0m                       Traceback (most recent call last)",
            "\u001b[0;32m<ipython-input-1-1418166e07ac>\u001b[0m in \u001b[0;36m<module>\u001b[0;34m\u001b[0m\n\u001b[0;32m----> 1\u001b[0;31m \u001b[0;32mimport\u001b[0m \u001b[0mrequests\u001b[0m\u001b[0;34m\u001b[0m\u001b[0;34m\u001b[0m\u001b[0m\n\u001b[0m\u001b[1;32m      2\u001b[0m \u001b[0;32mimport\u001b[0m \u001b[0mpandas\u001b[0m \u001b[0;32mas\u001b[0m \u001b[0mpd\u001b[0m\u001b[0;34m\u001b[0m\u001b[0;34m\u001b[0m\u001b[0m\n\u001b[1;32m      3\u001b[0m \u001b[0;32mfrom\u001b[0m \u001b[0mbs4\u001b[0m \u001b[0;32mimport\u001b[0m \u001b[0mBeautifulSoup\u001b[0m \u001b[0;32mas\u001b[0m \u001b[0mBS\u001b[0m\u001b[0;34m\u001b[0m\u001b[0;34m\u001b[0m\u001b[0m\n\u001b[1;32m      4\u001b[0m \u001b[0;34m\u001b[0m\u001b[0m\n\u001b[1;32m      5\u001b[0m \u001b[0;32mdef\u001b[0m \u001b[0myearly_stats\u001b[0m\u001b[0;34m(\u001b[0m\u001b[0mseason\u001b[0m\u001b[0;34m=\u001b[0m\u001b[0;36m2020\u001b[0m\u001b[0;34m)\u001b[0m\u001b[0;34m:\u001b[0m\u001b[0;34m\u001b[0m\u001b[0;34m\u001b[0m\u001b[0m\n",
            "\u001b[0;31mModuleNotFoundError\u001b[0m: No module named 'requests'"
          ]
        }
      ]
    },
    {
      "cell_type": "code",
      "execution_count": null,
      "metadata": {},
      "outputs": [],
      "source": []
    },
    {
      "cell_type": "code",
      "execution_count": null,
      "metadata": {},
      "outputs": [],
      "source": []
    }
  ]
}